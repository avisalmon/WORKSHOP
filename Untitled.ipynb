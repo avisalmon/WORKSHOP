{
 "cells": [
  {
   "cell_type": "code",
   "execution_count": 1,
   "id": "e561fab6",
   "metadata": {},
   "outputs": [
    {
     "name": "stdout",
     "output_type": "stream",
     "text": [
      "The path to the visible desktop is: C:\\Users\\asalmon\\Desktop\n"
     ]
    }
   ],
   "source": [
    "from pathlib import Path\n",
    "\n",
    "# Get the path to the visible desktop directory\n",
    "desktop_path = Path.home() / \"Desktop\"\n",
    "\n",
    "print(f\"The path to the visible desktop is: {desktop_path}\")"
   ]
  },
  {
   "cell_type": "code",
   "execution_count": null,
   "id": "53826702",
   "metadata": {},
   "outputs": [],
   "source": []
  }
 ],
 "metadata": {
  "kernelspec": {
   "display_name": "Python 3 (ipykernel)",
   "language": "python",
   "name": "python3"
  },
  "language_info": {
   "codemirror_mode": {
    "name": "ipython",
    "version": 3
   },
   "file_extension": ".py",
   "mimetype": "text/x-python",
   "name": "python",
   "nbconvert_exporter": "python",
   "pygments_lexer": "ipython3",
   "version": "3.7.6"
  }
 },
 "nbformat": 4,
 "nbformat_minor": 5
}
