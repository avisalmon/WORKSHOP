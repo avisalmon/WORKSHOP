{
 "cells": [
  {
   "cell_type": "code",
   "execution_count": 1,
   "id": "332ff680",
   "metadata": {},
   "outputs": [],
   "source": [
    "import importlib"
   ]
  },
  {
   "cell_type": "code",
   "execution_count": 2,
   "id": "cc66511a",
   "metadata": {},
   "outputs": [],
   "source": [
    "library_name = 'pygetwindow'"
   ]
  },
  {
   "cell_type": "code",
   "execution_count": 4,
   "id": "3d7e18af",
   "metadata": {},
   "outputs": [
    {
     "name": "stdout",
     "output_type": "stream",
     "text": [
      "pygetwindow is already installed.\n"
     ]
    }
   ],
   "source": [
    "try:\n",
    "    # Try importing the library\n",
    "    importlib.import_module(library_name)\n",
    "    print(f\"{library_name} is already installed.\")\n",
    "except ImportError:\n",
    "    # If the library is not found, install it\n",
    "    import subprocess\n",
    "    import sys\n",
    "\n",
    "    print(f\"{library_name} is not installed. Installing...\")\n",
    "    subprocess.check_call([sys.executable, '-m', 'pip', 'install', library_name])\n",
    "\n",
    "    # Import the library after installation\n",
    "    importlib.import_module(library_name)\n",
    "\n",
    "    print(f\"{library_name} has been installed.\")\n"
   ]
  },
  {
   "cell_type": "code",
   "execution_count": 6,
   "id": "1b8165d8",
   "metadata": {},
   "outputs": [
    {
     "name": "stdout",
     "output_type": "stream",
     "text": [
      "\n",
      "scriptdev - Jupyter Notebook - Google Chrome\n",
      "Python for File Management - Google Chrome\n",
      "Command Prompt\n",
      "prep_workshop.py - WORKSHOP - Visual Studio Code\n",
      "Setup\n",
      "Command Prompt - jupyter  notebook\n",
      "Projects\n",
      "Cisco AnyConnect Secure Mobility Client\n",
      "Inbox - avi.salmon@intel.com - Outlook\n",
      "\n",
      "Calculator\n",
      "Calculator\n",
      "Settings\n",
      "Settings\n",
      "Media Player\n",
      "Media Player\n",
      "Inbox - avi.salmon@intel.com - Outlook\n",
      "Resume Reading\n",
      "\n",
      "\n",
      "\n",
      "\n",
      "Document1  -  AutoRecovered  -  Compatibility Mode - Word\n",
      "Friends - Discord\n",
      "\n",
      "\n",
      "\n",
      "\n",
      "Microsoft Text Input Application\n",
      "\n",
      "Intel's Rising Star Tech talk - Pratik Chaudhari (UPenn) A Picture of the Prediction Space of Deep Networks | Microsoft Teams\n",
      "Huion Tablet\n",
      "Program Manager\n"
     ]
    }
   ],
   "source": [
    "import pygetwindow as gw\n",
    "\n",
    "# Get all open windows\n",
    "windows = gw.getAllTitles()\n",
    "\n",
    "# Print the titles of all open windows\n",
    "for window in windows:\n",
    "    print(window)\n",
    "    "
   ]
  },
  {
   "cell_type": "code",
   "execution_count": 7,
   "id": "6e86cb42",
   "metadata": {},
   "outputs": [
    {
     "ename": "ModuleNotFoundError",
     "evalue": "No module named 'psutil'",
     "output_type": "error",
     "traceback": [
      "\u001b[1;31m---------------------------------------------------------------------------\u001b[0m",
      "\u001b[1;31mModuleNotFoundError\u001b[0m                       Traceback (most recent call last)",
      "\u001b[1;32m~\\AppData\\Local\\Temp/ipykernel_12864/3230925495.py\u001b[0m in \u001b[0;36m<module>\u001b[1;34m\u001b[0m\n\u001b[1;32m----> 1\u001b[1;33m \u001b[1;32mimport\u001b[0m \u001b[0mpsutil\u001b[0m\u001b[1;33m\u001b[0m\u001b[1;33m\u001b[0m\u001b[0m\n\u001b[0m\u001b[0;32m      2\u001b[0m \u001b[1;33m\u001b[0m\u001b[0m\n\u001b[0;32m      3\u001b[0m \u001b[1;31m# Specify the name of the process you want to check\u001b[0m\u001b[1;33m\u001b[0m\u001b[1;33m\u001b[0m\u001b[1;33m\u001b[0m\u001b[0m\n\u001b[0;32m      4\u001b[0m \u001b[0mprocess_name\u001b[0m \u001b[1;33m=\u001b[0m \u001b[1;34m\"quartus\"\u001b[0m\u001b[1;33m\u001b[0m\u001b[1;33m\u001b[0m\u001b[0m\n\u001b[0;32m      5\u001b[0m \u001b[1;33m\u001b[0m\u001b[0m\n",
      "\u001b[1;31mModuleNotFoundError\u001b[0m: No module named 'psutil'"
     ]
    }
   ],
   "source": [
    "import psutil\n",
    "\n",
    "# Specify the name of the process you want to check\n",
    "process_name = \"quartus\"\n",
    "\n",
    "# Find running processes matching the process name\n",
    "for proc in psutil.process_iter(['name']):\n",
    "    if proc.info['name'].lower() == process_name:\n",
    "        print(f\"Found {process_name} process (PID: {proc.pid}). Closing...\")\n",
    "        proc.kill()\n"
   ]
  },
  {
   "cell_type": "code",
   "execution_count": null,
   "id": "a3245c92",
   "metadata": {},
   "outputs": [],
   "source": []
  }
 ],
 "metadata": {
  "kernelspec": {
   "display_name": "Python 3 (ipykernel)",
   "language": "python",
   "name": "python3"
  },
  "language_info": {
   "codemirror_mode": {
    "name": "ipython",
    "version": 3
   },
   "file_extension": ".py",
   "mimetype": "text/x-python",
   "name": "python",
   "nbconvert_exporter": "python",
   "pygments_lexer": "ipython3",
   "version": "3.7.6"
  }
 },
 "nbformat": 4,
 "nbformat_minor": 5
}
